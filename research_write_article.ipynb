{
  "cells": [
    {
      "cell_type": "markdown",
      "metadata": {
        "id": "ZQczta498tUI"
      },
      "source": [
        "# Agents to Research and Write an Article"
      ]
    },
    {
      "cell_type": "code",
      "source": [
        "!pip install crewai==0.28.8 crewai_tools==0.1.6 langchain_community==0.0.29 langchain_groq==0.0.1 -q"
      ],
      "metadata": {
        "colab": {
          "base_uri": "https://localhost:8080/"
        },
        "id": "LE0tJ_C984pU",
        "outputId": "a157d141-a9b9-45bb-d92a-a5ee352e9916"
      },
      "execution_count": 6,
      "outputs": [
        {
          "output_type": "stream",
          "name": "stdout",
          "text": [
            "\u001b[?25l     \u001b[90m━━━━━━━━━━━━━━━━━━━━━━━━━━━━━━━━━━━━━━━━\u001b[0m \u001b[32m0.0/103.5 kB\u001b[0m \u001b[31m?\u001b[0m eta \u001b[36m-:--:--\u001b[0m\r\u001b[2K     \u001b[91m━━━━━━━━━━━━━━━━━━━━━━━━━━━━━━━━━━━━━━━\u001b[0m\u001b[91m╸\u001b[0m \u001b[32m102.4/103.5 kB\u001b[0m \u001b[31m2.9 MB/s\u001b[0m eta \u001b[36m0:00:01\u001b[0m\r\u001b[2K     \u001b[90m━━━━━━━━━━━━━━━━━━━━━━━━━━━━━━━━━━━━━━━━\u001b[0m \u001b[32m103.5/103.5 kB\u001b[0m \u001b[31m2.2 MB/s\u001b[0m eta \u001b[36m0:00:00\u001b[0m\n",
            "\u001b[?25h"
          ]
        }
      ]
    },
    {
      "cell_type": "code",
      "execution_count": 2,
      "metadata": {
        "height": 64,
        "id": "326R8ooc8tUJ"
      },
      "outputs": [],
      "source": [
        "# Warning control\n",
        "import warnings\n",
        "warnings.filterwarnings('ignore')"
      ]
    },
    {
      "cell_type": "markdown",
      "metadata": {
        "id": "FNjzekDn8tUJ"
      },
      "source": [
        "- Import from the crewAI libray."
      ]
    },
    {
      "cell_type": "code",
      "execution_count": 3,
      "metadata": {
        "height": 30,
        "id": "gVmFSPca8tUK"
      },
      "outputs": [],
      "source": [
        "from crewai import Agent, Task, Crew"
      ]
    },
    {
      "cell_type": "code",
      "execution_count": 5,
      "metadata": {
        "height": 115,
        "id": "L4XrVZ3a8tUK"
      },
      "outputs": [],
      "source": [
        "import os\n",
        "\n",
        "from google.colab import userdata\n",
        "os.environ[\"GROQ_API_KEY\"] = userdata.get('GROQ_API_KEY')"
      ]
    },
    {
      "cell_type": "code",
      "source": [
        "from langchain_groq import ChatGroq\n",
        "\n",
        "llm = llm = ChatGroq(\n",
        "    model=\"gemma-7b-it\",\n",
        "    groq_api_key=os.environ[\"GROQ_API_KEY\"],\n",
        ")"
      ],
      "metadata": {
        "id": "PHr1EQ7x_YUj"
      },
      "execution_count": 7,
      "outputs": []
    },
    {
      "cell_type": "markdown",
      "metadata": {
        "id": "aYH45_PM8tUK"
      },
      "source": [
        "## Creating Agents\n",
        "\n",
        "- Define your Agents, and provide them a `role`, `goal` and `backstory`.\n",
        "- It has been seen that LLMs perform better when they are role playing."
      ]
    },
    {
      "cell_type": "markdown",
      "metadata": {
        "id": "xnMcCswU8tUL"
      },
      "source": [
        "### Agent: Planner"
      ]
    },
    {
      "cell_type": "code",
      "execution_count": 8,
      "metadata": {
        "height": 251,
        "id": "UxZl5YXj8tUL"
      },
      "outputs": [],
      "source": [
        "planner = Agent(\n",
        "    role=\"Content Planner\",\n",
        "    goal=\"Plan engaging and factually accurate content on {topic}\",\n",
        "    backstory=\"You're working on planning a blog article \"\n",
        "              \"about the topic: {topic}.\"\n",
        "              \"You collect information that helps the \"\n",
        "              \"audience learn something \"\n",
        "              \"and make informed decisions. \"\n",
        "              \"Your work is the basis for \"\n",
        "              \"the Content Writer to write an article on this topic.\",\n",
        "    allow_delegation=False,\n",
        "\tverbose=True,\n",
        "    llm=llm\n",
        ")"
      ]
    },
    {
      "cell_type": "markdown",
      "metadata": {
        "id": "aM-v8U0C8tUL"
      },
      "source": [
        "### Agent: Writer"
      ]
    },
    {
      "cell_type": "code",
      "execution_count": 9,
      "metadata": {
        "height": 387,
        "id": "CvaXLSpA8tUL"
      },
      "outputs": [],
      "source": [
        "writer = Agent(\n",
        "    role=\"Content Writer\",\n",
        "    goal=\"Write insightful and factually accurate \"\n",
        "         \"opinion piece about the topic: {topic}\",\n",
        "    backstory=\"You're working on a writing \"\n",
        "              \"a new opinion piece about the topic: {topic}. \"\n",
        "              \"You base your writing on the work of \"\n",
        "              \"the Content Planner, who provides an outline \"\n",
        "              \"and relevant context about the topic. \"\n",
        "              \"You follow the main objectives and \"\n",
        "              \"direction of the outline, \"\n",
        "              \"as provide by the Content Planner. \"\n",
        "              \"You also provide objective and impartial insights \"\n",
        "              \"and back them up with information \"\n",
        "              \"provide by the Content Planner. \"\n",
        "              \"You acknowledge in your opinion piece \"\n",
        "              \"when your statements are opinions \"\n",
        "              \"as opposed to objective statements.\",\n",
        "    allow_delegation=False,\n",
        "    verbose=True,\n",
        "    llm=llm\n",
        ")"
      ]
    },
    {
      "cell_type": "markdown",
      "metadata": {
        "id": "GGrlkfZx8tUM"
      },
      "source": [
        "### Agent: Editor"
      ]
    },
    {
      "cell_type": "code",
      "execution_count": 10,
      "metadata": {
        "height": 285,
        "id": "dqG_rQmP8tUM"
      },
      "outputs": [],
      "source": [
        "editor = Agent(\n",
        "    role=\"Editor\",\n",
        "    goal=\"Edit a given blog post to align with \"\n",
        "         \"the writing style of the organization. \",\n",
        "    backstory=\"You are an editor who receives a blog post \"\n",
        "              \"from the Content Writer. \"\n",
        "              \"Your goal is to review the blog post \"\n",
        "              \"to ensure that it follows journalistic best practices,\"\n",
        "              \"provides balanced viewpoints \"\n",
        "              \"when providing opinions or assertions, \"\n",
        "              \"and also avoids major controversial topics \"\n",
        "              \"or opinions when possible.\",\n",
        "    allow_delegation=False,\n",
        "    verbose=True,\n",
        "    llm=llm\n",
        ")"
      ]
    },
    {
      "cell_type": "markdown",
      "metadata": {
        "id": "NdRnIZ3y8tUN"
      },
      "source": [
        "## Creating Tasks\n",
        "\n",
        "- Define your Tasks, and provide them a `description`, `expected_output` and `agent`."
      ]
    },
    {
      "cell_type": "markdown",
      "metadata": {
        "id": "c7b8vm1V8tUN"
      },
      "source": [
        "### Task: Plan"
      ]
    },
    {
      "cell_type": "code",
      "execution_count": 11,
      "metadata": {
        "height": 285,
        "id": "3xktt6em8tUN"
      },
      "outputs": [],
      "source": [
        "plan = Task(\n",
        "    description=(\n",
        "        \"1. Prioritize the latest trends, key players, \"\n",
        "            \"and noteworthy news on {topic}.\\n\"\n",
        "        \"2. Identify the target audience, considering \"\n",
        "            \"their interests and pain points.\\n\"\n",
        "        \"3. Develop a detailed content outline including \"\n",
        "            \"an introduction, key points, and a call to action.\\n\"\n",
        "        \"4. Include SEO keywords and relevant data or sources.\"\n",
        "    ),\n",
        "    expected_output=\"A comprehensive content plan document \"\n",
        "        \"with an outline, audience analysis, \"\n",
        "        \"SEO keywords, and resources.\",\n",
        "    agent=planner,\n",
        ")"
      ]
    },
    {
      "cell_type": "markdown",
      "metadata": {
        "id": "z2U7lXH08tUN"
      },
      "source": [
        "### Task: Write"
      ]
    },
    {
      "cell_type": "code",
      "execution_count": 12,
      "metadata": {
        "height": 336,
        "id": "gqs6yOds8tUO"
      },
      "outputs": [],
      "source": [
        "write = Task(\n",
        "    description=(\n",
        "        \"1. Use the content plan to craft a compelling \"\n",
        "            \"blog post on {topic}.\\n\"\n",
        "        \"2. Incorporate SEO keywords naturally.\\n\"\n",
        "\t\t\"3. Sections/Subtitles are properly named \"\n",
        "            \"in an engaging manner.\\n\"\n",
        "        \"4. Ensure the post is structured with an \"\n",
        "            \"engaging introduction, insightful body, \"\n",
        "            \"and a summarizing conclusion.\\n\"\n",
        "        \"5. Proofread for grammatical errors and \"\n",
        "            \"alignment with the brand's voice.\\n\"\n",
        "    ),\n",
        "    expected_output=\"A well-written blog post \"\n",
        "        \"in markdown format, ready for publication, \"\n",
        "        \"each section should have 2 or 3 paragraphs.\",\n",
        "    agent=writer,\n",
        ")"
      ]
    },
    {
      "cell_type": "markdown",
      "metadata": {
        "id": "wrI-5yvn8tUO"
      },
      "source": [
        "### Task: Edit"
      ]
    },
    {
      "cell_type": "code",
      "execution_count": 13,
      "metadata": {
        "height": 183,
        "id": "ufZgCQRz8tUO"
      },
      "outputs": [],
      "source": [
        "edit = Task(\n",
        "    description=(\"Proofread the given blog post for \"\n",
        "                 \"grammatical errors and \"\n",
        "                 \"alignment with the brand's voice.\"),\n",
        "    expected_output=\"A well-written blog post in markdown format, \"\n",
        "                    \"ready for publication, \"\n",
        "                    \"each section should have 2 or 3 paragraphs.\",\n",
        "    agent=editor\n",
        ")"
      ]
    },
    {
      "cell_type": "markdown",
      "metadata": {
        "id": "EnMwXK1q8tUO"
      },
      "source": [
        "## Creating the Crew\n",
        "\n",
        "- Create your crew of Agents\n",
        "- Pass the tasks to be performed by those agents.\n",
        "    - **Note**: *For this simple example*, the tasks will be performed sequentially (i.e they are dependent on each other), so the _order_ of the task in the list _matters_.\n",
        "- `verbose=2` allows you to see all the logs of the execution."
      ]
    },
    {
      "cell_type": "code",
      "execution_count": 14,
      "metadata": {
        "height": 98,
        "id": "hcGI5d7K8tUP"
      },
      "outputs": [],
      "source": [
        "crew = Crew(\n",
        "    agents=[planner, writer, editor],\n",
        "    tasks=[plan, write, edit],\n",
        "    verbose=2\n",
        ")"
      ]
    },
    {
      "cell_type": "markdown",
      "metadata": {
        "id": "l4hQ8fsE8tUP"
      },
      "source": [
        "## Running the Crew"
      ]
    },
    {
      "cell_type": "markdown",
      "metadata": {
        "id": "Kh5k6CA-8tUP"
      },
      "source": [
        "**Note**: LLMs can provide different outputs for they same input, so what you get might be different than what you see in the video."
      ]
    },
    {
      "cell_type": "code",
      "execution_count": 15,
      "metadata": {
        "height": 47,
        "colab": {
          "base_uri": "https://localhost:8080/"
        },
        "id": "rW9s-mpL8tUP",
        "outputId": "8233cfff-4f77-465f-fb58-964893d20121"
      },
      "outputs": [
        {
          "output_type": "stream",
          "name": "stdout",
          "text": [
            "\u001b[1m\u001b[95m [DEBUG]: == Working Agent: Content Planner\u001b[00m\n",
            "\u001b[1m\u001b[95m [INFO]: == Starting Task: 1. Prioritize the latest trends, key players, and noteworthy news on Artificial Intelligence.\n",
            "2. Identify the target audience, considering their interests and pain points.\n",
            "3. Develop a detailed content outline including an introduction, key points, and a call to action.\n",
            "4. Include SEO keywords and relevant data or sources.\u001b[00m\n",
            "\n",
            "\n",
            "\u001b[1m> Entering new CrewAgentExecutor chain...\u001b[0m\n",
            "\u001b[32;1m\u001b[1;3m## Content Plan: Artificial Intelligence\n",
            "\n",
            "**Final Answer:**\n",
            "\n",
            "**I. Introduction (200 words)**\n",
            "\n",
            "* Definition of Artificial Intelligence (AI)\n",
            "* Brief history of AI development\n",
            "* Importance of AI in the modern world\n",
            "* Overview of current AI trends and applications\n",
            "\n",
            "**II. Key Trends in AI (600 words)**\n",
            "\n",
            "* **Generative AI:** Text and code generation, image and video creation\n",
            "* **Reinforcement Learning:** Machine learning algorithms learn from experience and improve outcomes\n",
            "* **Natural Language Processing:** Advancements in understanding and generating human language\n",
            "* **Edge AI:** AI processing closer to data sources for improved efficiency\n",
            "* **Explainable AI:** Making AI models more transparent and accountable\n",
            "\n",
            "**III. Key Players in AI (400 words)**\n",
            "\n",
            "* Google: TensorFlow, Cloud AI, DeepMind\n",
            "* Amazon: Amazon Web Services (AWS) AI, SageMaker, Alexa\n",
            "* Microsoft: Azure AI, GitHub AI\n",
            "* Deep learning startups: OpenAI, Anthropic, Jasper.ai\n",
            "* Ethical considerations and the future of AI governance\n",
            "\n",
            "**IV. Notable News in AI (300 words)**\n",
            "\n",
            "* Recent breakthroughs in AI-powered drug discovery\n",
            "* AI-powered robots assisting in disaster relief efforts\n",
            "* AI-driven customer service chatbots becoming more human-like\n",
            "* Governments utilizing AI for surveillance and predictive analytics\n",
            "* Investment and funding trends in AI startups\n",
            "\n",
            "**V. Conclusion (200 words)**\n",
            "\n",
            "* Summary of the key trends, players, and news in AI\n",
            "* Potential future of AI and its impact on various industries\n",
            "* Call to action for readers to explore the potential of AI and stay updated on its advancements\n",
            "\n",
            "**VI. Call to Action**\n",
            "\n",
            "* Subscribe to relevant AI newsletters and publications\n",
            "* Explore the websites of leading AI companies\n",
            "* Attend AI conferences and workshops\n",
            "* Invest in AI-powered products and services\n",
            "* Join online communities and forums to discuss AI with experts and enthusiasts\n",
            "\n",
            "**SEO Keywords:**\n",
            "\n",
            "* Artificial Intelligence\n",
            "* Machine Learning\n",
            "* Deep Learning\n",
            "* Computer Vision\n",
            "* Natural Language Processing\n",
            "* Robotics\n",
            "* Cloud AI\n",
            "* Data Science\n",
            "\n",
            "**Resources:**\n",
            "\n",
            "* Stanford HAI100\n",
            "* MIT AI100\n",
            "* AI Now Institute\n",
            "* VentureBeat AI News\n",
            "* The Brookings Institution AI Research\u001b[0m\n",
            "\n",
            "\u001b[1m> Finished chain.\u001b[0m\n",
            "\u001b[1m\u001b[92m [DEBUG]: == [Content Planner] Task output: **\n",
            "\n",
            "**I. Introduction (200 words)**\n",
            "\n",
            "* Definition of Artificial Intelligence (AI)\n",
            "* Brief history of AI development\n",
            "* Importance of AI in the modern world\n",
            "* Overview of current AI trends and applications\n",
            "\n",
            "**II. Key Trends in AI (600 words)**\n",
            "\n",
            "* **Generative AI:** Text and code generation, image and video creation\n",
            "* **Reinforcement Learning:** Machine learning algorithms learn from experience and improve outcomes\n",
            "* **Natural Language Processing:** Advancements in understanding and generating human language\n",
            "* **Edge AI:** AI processing closer to data sources for improved efficiency\n",
            "* **Explainable AI:** Making AI models more transparent and accountable\n",
            "\n",
            "**III. Key Players in AI (400 words)**\n",
            "\n",
            "* Google: TensorFlow, Cloud AI, DeepMind\n",
            "* Amazon: Amazon Web Services (AWS) AI, SageMaker, Alexa\n",
            "* Microsoft: Azure AI, GitHub AI\n",
            "* Deep learning startups: OpenAI, Anthropic, Jasper.ai\n",
            "* Ethical considerations and the future of AI governance\n",
            "\n",
            "**IV. Notable News in AI (300 words)**\n",
            "\n",
            "* Recent breakthroughs in AI-powered drug discovery\n",
            "* AI-powered robots assisting in disaster relief efforts\n",
            "* AI-driven customer service chatbots becoming more human-like\n",
            "* Governments utilizing AI for surveillance and predictive analytics\n",
            "* Investment and funding trends in AI startups\n",
            "\n",
            "**V. Conclusion (200 words)**\n",
            "\n",
            "* Summary of the key trends, players, and news in AI\n",
            "* Potential future of AI and its impact on various industries\n",
            "* Call to action for readers to explore the potential of AI and stay updated on its advancements\n",
            "\n",
            "**VI. Call to Action**\n",
            "\n",
            "* Subscribe to relevant AI newsletters and publications\n",
            "* Explore the websites of leading AI companies\n",
            "* Attend AI conferences and workshops\n",
            "* Invest in AI-powered products and services\n",
            "* Join online communities and forums to discuss AI with experts and enthusiasts\n",
            "\n",
            "**SEO Keywords:**\n",
            "\n",
            "* Artificial Intelligence\n",
            "* Machine Learning\n",
            "* Deep Learning\n",
            "* Computer Vision\n",
            "* Natural Language Processing\n",
            "* Robotics\n",
            "* Cloud AI\n",
            "* Data Science\n",
            "\n",
            "**Resources:**\n",
            "\n",
            "* Stanford HAI100\n",
            "* MIT AI100\n",
            "* AI Now Institute\n",
            "* VentureBeat AI News\n",
            "* The Brookings Institution AI Research\n",
            "\n",
            "\u001b[00m\n",
            "\u001b[1m\u001b[95m [DEBUG]: == Working Agent: Content Writer\u001b[00m\n",
            "\u001b[1m\u001b[95m [INFO]: == Starting Task: 1. Use the content plan to craft a compelling blog post on Artificial Intelligence.\n",
            "2. Incorporate SEO keywords naturally.\n",
            "3. Sections/Subtitles are properly named in an engaging manner.\n",
            "4. Ensure the post is structured with an engaging introduction, insightful body, and a summarizing conclusion.\n",
            "5. Proofread for grammatical errors and alignment with the brand's voice.\n",
            "\u001b[00m\n",
            "\n",
            "\n",
            "\u001b[1m> Entering new CrewAgentExecutor chain...\u001b[0m\n",
            "\u001b[32;1m\u001b[1;3m\u001b[0m\u001b[32;1m\u001b[1;3m## Thought:\n",
            "\n",
            "I now have a clear understanding of the task and its requirements. I will craft a compelling blog post on Artificial Intelligence, incorporating the provided outline and key points while adhering to the expected criteria.\n",
            "\n",
            "## Final Answer:\n",
            "\n",
            "**Artificial Intelligence: Shaping the Future**\n",
            "\n",
            "**Introduction:**\n",
            "\n",
            "Artificial Intelligence (AI) has emerged as a transformative technology, revolutionizing industries and impacting lives across the globe. From language translation to healthcare diagnostics, AI algorithms have demonstrated remarkable capabilities in understanding and mimicking human intelligence. This remarkable progress has led to diverse applications across sectors, shaping the future of numerous industries.\n",
            "\n",
            "**Key Trends in AI:**\n",
            "\n",
            "AI advancements are driven by innovative trends such as Generative AI, which enables the creation of realistic text and images. Reinforcement Learning algorithms learn from data and make optimal decisions, improving outcomes over time. Natural Language Processing has advanced significantly, allowing for deeper understanding and generation of human language. Additionally, Edge AI brings AI processing closer to data sources, optimizing efficiency and accessibility. Finally, Explainable AI emphasizes the need for transparency and accountability in AI models.\n",
            "\n",
            "**Key Players in AI:**\n",
            "\n",
            "Leading technology giants like Google, Amazon, and Microsoft are driving AI innovation. Google's TensorFlow and Amazon's SageMaker are widely used for machine learning model development and deployment. Microsoft's Azure AI offers a comprehensive cloud-based AI platform. Additionally, numerous startups like OpenAI and Anthropic are shaping the future of AI with their groundbreaking technologies.\n",
            "\n",
            "**Notable News in AI:**\n",
            "\n",
            "AI applications are expanding rapidly. Recent breakthroughs include AI-powered drug discovery, robots aiding disaster relief efforts, and AI-driven chatbots mimicking human interaction. Governments are utilizing AI for surveillance, predictive analytics, and citizen services.\n",
            "\n",
            "**Conclusion:**\n",
            "\n",
            "AI offers transformative potential across industries, driving innovation and solving complex problems. With ongoing advancements and ethical considerations, AI is poised to further revolutionize the world, empowering industries and shaping the future.\n",
            "\n",
            "**Call to Action:**\n",
            "\n",
            "To explore the potential of AI:\n",
            "\n",
            "* Subscribe to relevant AI newsletters and publications\n",
            "* Visit the websites of leading AI companies\n",
            "* Attend AI conferences and workshops\n",
            "* Invest in AI-powered products and services\n",
            "* Join online communities and forums to connect with AI experts and enthusiasts\u001b[0m\n",
            "\n",
            "\u001b[1m> Finished chain.\u001b[0m\n",
            "\u001b[1m\u001b[92m [DEBUG]: == [Content Writer] Task output: **Artificial Intelligence: Shaping the Future**\n",
            "\n",
            "**Introduction:**\n",
            "\n",
            "Artificial Intelligence (AI) has emerged as a transformative technology, revolutionizing industries and impacting lives across the globe. From language translation to healthcare diagnostics, AI algorithms have demonstrated remarkable capabilities in understanding and mimicking human intelligence. This remarkable progress has led to diverse applications across sectors, shaping the future of numerous industries.\n",
            "\n",
            "**Key Trends in AI:**\n",
            "\n",
            "AI advancements are driven by innovative trends such as Generative AI, which enables the creation of realistic text and images. Reinforcement Learning algorithms learn from data and make optimal decisions, improving outcomes over time. Natural Language Processing has advanced significantly, allowing for deeper understanding and generation of human language. Additionally, Edge AI brings AI processing closer to data sources, optimizing efficiency and accessibility. Finally, Explainable AI emphasizes the need for transparency and accountability in AI models.\n",
            "\n",
            "**Key Players in AI:**\n",
            "\n",
            "Leading technology giants like Google, Amazon, and Microsoft are driving AI innovation. Google's TensorFlow and Amazon's SageMaker are widely used for machine learning model development and deployment. Microsoft's Azure AI offers a comprehensive cloud-based AI platform. Additionally, numerous startups like OpenAI and Anthropic are shaping the future of AI with their groundbreaking technologies.\n",
            "\n",
            "**Notable News in AI:**\n",
            "\n",
            "AI applications are expanding rapidly. Recent breakthroughs include AI-powered drug discovery, robots aiding disaster relief efforts, and AI-driven chatbots mimicking human interaction. Governments are utilizing AI for surveillance, predictive analytics, and citizen services.\n",
            "\n",
            "**Conclusion:**\n",
            "\n",
            "AI offers transformative potential across industries, driving innovation and solving complex problems. With ongoing advancements and ethical considerations, AI is poised to further revolutionize the world, empowering industries and shaping the future.\n",
            "\n",
            "**Call to Action:**\n",
            "\n",
            "To explore the potential of AI:\n",
            "\n",
            "* Subscribe to relevant AI newsletters and publications\n",
            "* Visit the websites of leading AI companies\n",
            "* Attend AI conferences and workshops\n",
            "* Invest in AI-powered products and services\n",
            "* Join online communities and forums to connect with AI experts and enthusiasts\n",
            "\n",
            "\u001b[00m\n",
            "\u001b[1m\u001b[95m [DEBUG]: == Working Agent: Editor\u001b[00m\n",
            "\u001b[1m\u001b[95m [INFO]: == Starting Task: Proofread the given blog post for grammatical errors and alignment with the brand's voice.\u001b[00m\n",
            "\n",
            "\n",
            "\u001b[1m> Entering new CrewAgentExecutor chain...\u001b[0m\n",
            "\u001b[32;1m\u001b[1;3m## Final Answer:\n",
            "\n",
            "**Artificial Intelligence: Shaping the Future**\n",
            "\n",
            "Artificial Intelligence (AI) has emerged as a transformative technology, revolutionizing industries and impacting lives across the globe. From language translation to healthcare diagnostics, AI algorithms have demonstrated remarkable capabilities in understanding and mimicking human intelligence. This remarkable progress has led to diverse applications across sectors, shaping the future of numerous industries.\n",
            "\n",
            "**Key Trends Shaping AI's Trajectory**\n",
            "\n",
            "AI advancements are driven by innovative trends that enable remarkable capabilities. Generative AI empowers the creation of realistic text and images, while Reinforcement Learning algorithms learn from data and make optimal decisions over time. Natural Language Processing has advanced significantly, allowing for deeper understanding and generation of human language. Additionally, Edge AI brings AI processing closer to data sources, improving efficiency and accessibility. Finally, Explainable AI emphasizes the need for transparency and accountability in AI models.\n",
            "\n",
            "**Leading Players and Promising Innovations**\n",
            "\n",
            "Leading technology giants like Google, Amazon, and Microsoft are driving AI innovation. Their platforms and tools, such as TensorFlow and SageMaker, are widely used for machine learning model development and deployment. Additionally, numerous startups like OpenAI and Anthropic are shaping the future of AI with their groundbreaking technologies.\n",
            "\n",
            "**AI Applications Across Industries**\n",
            "\n",
            "AI applications are expanding rapidly across industries. Recent breakthroughs include AI-powered drug discovery, robots aiding disaster relief efforts, and AI-driven chatbots mimicking human interaction. Governments are utilizing AI for surveillance, predictive analytics, and citizen services.\n",
            "\n",
            "**Ethical Considerations and the Future**\n",
            "\n",
            "AI offers transformative potential across industries, but ethical considerations must be addressed. As AI technology evolves, ensuring fairness, accountability, and transparency will be crucial. Responsible implementation of AI will be essential for maximizing its benefits and mitigating potential risks.\n",
            "\n",
            "**Conclusion**\n",
            "\n",
            "AI is poised to further revolutionize the world, empowering industries and shaping the future. By embracing its potential while addressing ethical considerations, we can unlock the transformative power of AI to address complex problems and create a better future.\n",
            "\n",
            "**Call to Action**\n",
            "\n",
            "To explore the potential of AI:\n",
            "\n",
            "* Stay updated with AI news and publications\n",
            "* Visit the websites of leading AI companies\n",
            "* Attend AI conferences and workshops\n",
            "* Invest in AI-powered products and services\n",
            "* Join online communities and forums to connect with AI experts and enthusiasts\u001b[0m\n",
            "\n",
            "\u001b[1m> Finished chain.\u001b[0m\n",
            "\u001b[1m\u001b[92m [DEBUG]: == [Editor] Task output: **Artificial Intelligence: Shaping the Future**\n",
            "\n",
            "Artificial Intelligence (AI) has emerged as a transformative technology, revolutionizing industries and impacting lives across the globe. From language translation to healthcare diagnostics, AI algorithms have demonstrated remarkable capabilities in understanding and mimicking human intelligence. This remarkable progress has led to diverse applications across sectors, shaping the future of numerous industries.\n",
            "\n",
            "**Key Trends Shaping AI's Trajectory**\n",
            "\n",
            "AI advancements are driven by innovative trends that enable remarkable capabilities. Generative AI empowers the creation of realistic text and images, while Reinforcement Learning algorithms learn from data and make optimal decisions over time. Natural Language Processing has advanced significantly, allowing for deeper understanding and generation of human language. Additionally, Edge AI brings AI processing closer to data sources, improving efficiency and accessibility. Finally, Explainable AI emphasizes the need for transparency and accountability in AI models.\n",
            "\n",
            "**Leading Players and Promising Innovations**\n",
            "\n",
            "Leading technology giants like Google, Amazon, and Microsoft are driving AI innovation. Their platforms and tools, such as TensorFlow and SageMaker, are widely used for machine learning model development and deployment. Additionally, numerous startups like OpenAI and Anthropic are shaping the future of AI with their groundbreaking technologies.\n",
            "\n",
            "**AI Applications Across Industries**\n",
            "\n",
            "AI applications are expanding rapidly across industries. Recent breakthroughs include AI-powered drug discovery, robots aiding disaster relief efforts, and AI-driven chatbots mimicking human interaction. Governments are utilizing AI for surveillance, predictive analytics, and citizen services.\n",
            "\n",
            "**Ethical Considerations and the Future**\n",
            "\n",
            "AI offers transformative potential across industries, but ethical considerations must be addressed. As AI technology evolves, ensuring fairness, accountability, and transparency will be crucial. Responsible implementation of AI will be essential for maximizing its benefits and mitigating potential risks.\n",
            "\n",
            "**Conclusion**\n",
            "\n",
            "AI is poised to further revolutionize the world, empowering industries and shaping the future. By embracing its potential while addressing ethical considerations, we can unlock the transformative power of AI to address complex problems and create a better future.\n",
            "\n",
            "**Call to Action**\n",
            "\n",
            "To explore the potential of AI:\n",
            "\n",
            "* Stay updated with AI news and publications\n",
            "* Visit the websites of leading AI companies\n",
            "* Attend AI conferences and workshops\n",
            "* Invest in AI-powered products and services\n",
            "* Join online communities and forums to connect with AI experts and enthusiasts\n",
            "\n",
            "\u001b[00m\n"
          ]
        }
      ],
      "source": [
        "result = crew.kickoff(inputs={\"topic\": \"Artificial Intelligence\"})"
      ]
    },
    {
      "cell_type": "markdown",
      "metadata": {
        "id": "w6X0dCFm8tUP"
      },
      "source": [
        "- Display the results of your execution as markdown in the notebook."
      ]
    },
    {
      "cell_type": "code",
      "execution_count": 16,
      "metadata": {
        "height": 47,
        "colab": {
          "base_uri": "https://localhost:8080/",
          "height": 616
        },
        "id": "iCMkhNPj8tUQ",
        "outputId": "be11c6f9-9231-48bc-ac34-297c859b2177"
      },
      "outputs": [
        {
          "output_type": "execute_result",
          "data": {
            "text/plain": [
              "<IPython.core.display.Markdown object>"
            ],
            "text/markdown": "**Artificial Intelligence: Shaping the Future**\n\nArtificial Intelligence (AI) has emerged as a transformative technology, revolutionizing industries and impacting lives across the globe. From language translation to healthcare diagnostics, AI algorithms have demonstrated remarkable capabilities in understanding and mimicking human intelligence. This remarkable progress has led to diverse applications across sectors, shaping the future of numerous industries.\n\n**Key Trends Shaping AI's Trajectory**\n\nAI advancements are driven by innovative trends that enable remarkable capabilities. Generative AI empowers the creation of realistic text and images, while Reinforcement Learning algorithms learn from data and make optimal decisions over time. Natural Language Processing has advanced significantly, allowing for deeper understanding and generation of human language. Additionally, Edge AI brings AI processing closer to data sources, improving efficiency and accessibility. Finally, Explainable AI emphasizes the need for transparency and accountability in AI models.\n\n**Leading Players and Promising Innovations**\n\nLeading technology giants like Google, Amazon, and Microsoft are driving AI innovation. Their platforms and tools, such as TensorFlow and SageMaker, are widely used for machine learning model development and deployment. Additionally, numerous startups like OpenAI and Anthropic are shaping the future of AI with their groundbreaking technologies.\n\n**AI Applications Across Industries**\n\nAI applications are expanding rapidly across industries. Recent breakthroughs include AI-powered drug discovery, robots aiding disaster relief efforts, and AI-driven chatbots mimicking human interaction. Governments are utilizing AI for surveillance, predictive analytics, and citizen services.\n\n**Ethical Considerations and the Future**\n\nAI offers transformative potential across industries, but ethical considerations must be addressed. As AI technology evolves, ensuring fairness, accountability, and transparency will be crucial. Responsible implementation of AI will be essential for maximizing its benefits and mitigating potential risks.\n\n**Conclusion**\n\nAI is poised to further revolutionize the world, empowering industries and shaping the future. By embracing its potential while addressing ethical considerations, we can unlock the transformative power of AI to address complex problems and create a better future.\n\n**Call to Action**\n\nTo explore the potential of AI:\n\n* Stay updated with AI news and publications\n* Visit the websites of leading AI companies\n* Attend AI conferences and workshops\n* Invest in AI-powered products and services\n* Join online communities and forums to connect with AI experts and enthusiasts"
          },
          "metadata": {},
          "execution_count": 16
        }
      ],
      "source": [
        "from IPython.display import Markdown\n",
        "Markdown(result)"
      ]
    }
  ],
  "metadata": {
    "colab": {
      "gpuType": "T4",
      "provenance": []
    },
    "kernelspec": {
      "display_name": "Python 3 (ipykernel)",
      "language": "python",
      "name": "python3"
    },
    "language_info": {
      "codemirror_mode": {
        "name": "ipython",
        "version": 3
      },
      "file_extension": ".py",
      "mimetype": "text/x-python",
      "name": "python",
      "nbconvert_exporter": "python",
      "pygments_lexer": "ipython3",
      "version": "3.11.9"
    }
  },
  "nbformat": 4,
  "nbformat_minor": 0
}